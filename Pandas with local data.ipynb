{
 "cells": [
  {
   "cell_type": "markdown",
   "id": "de2cb247",
   "metadata": {},
   "source": [
    "#opening files in Pandas"
   ]
  },
  {
   "cell_type": "code",
   "execution_count": 1,
   "id": "f1d16ad2",
   "metadata": {},
   "outputs": [],
   "source": [
    "#df = pd.read_csv('file paht way')"
   ]
  },
  {
   "cell_type": "code",
   "execution_count": null,
   "id": "8060b771",
   "metadata": {},
   "outputs": [],
   "source": [
    "#df = pd.read_excel('file paht way')"
   ]
  },
  {
   "cell_type": "code",
   "execution_count": null,
   "id": "2e406783",
   "metadata": {},
   "outputs": [],
   "source": [
    "#df = pd.read_json('file paht way')"
   ]
  },
  {
   "cell_type": "code",
   "execution_count": null,
   "id": "31671b30",
   "metadata": {},
   "outputs": [],
   "source": [
    "#df = pd.read_html('file paht way')"
   ]
  },
  {
   "cell_type": "code",
   "execution_count": null,
   "id": "77aae2cb",
   "metadata": {},
   "outputs": [],
   "source": [
    "#df = pd.read_csv('file paht way')"
   ]
  },
  {
   "cell_type": "code",
   "execution_count": null,
   "id": "b8de5e26",
   "metadata": {},
   "outputs": [],
   "source": [
    "#for url\n",
    "#df = pd.read_csv(url)\n",
    "#df = pd.read_json(url)"
   ]
  },
  {
   "cell_type": "markdown",
   "id": "f7870749",
   "metadata": {},
   "source": [
    "# 1st example"
   ]
  },
  {
   "cell_type": "code",
   "execution_count": 6,
   "id": "6662fc99",
   "metadata": {},
   "outputs": [],
   "source": []
  },
  {
   "cell_type": "code",
   "execution_count": 11,
   "id": "f44bb73e",
   "metadata": {},
   "outputs": [
    {
     "data": {
      "text/html": [
       "<div>\n",
       "<style scoped>\n",
       "    .dataframe tbody tr th:only-of-type {\n",
       "        vertical-align: middle;\n",
       "    }\n",
       "\n",
       "    .dataframe tbody tr th {\n",
       "        vertical-align: top;\n",
       "    }\n",
       "\n",
       "    .dataframe thead th {\n",
       "        text-align: right;\n",
       "    }\n",
       "</style>\n",
       "<table border=\"1\" class=\"dataframe\">\n",
       "  <thead>\n",
       "    <tr style=\"text-align: right;\">\n",
       "      <th></th>\n",
       "      <th>Entity</th>\n",
       "      <th>Code</th>\n",
       "      <th>Year</th>\n",
       "      <th>GDP per capita (output, multiple price benchmarks)</th>\n",
       "    </tr>\n",
       "  </thead>\n",
       "  <tbody>\n",
       "    <tr>\n",
       "      <th>0</th>\n",
       "      <td>Albania</td>\n",
       "      <td>ALB</td>\n",
       "      <td>1970</td>\n",
       "      <td>3114.0884</td>\n",
       "    </tr>\n",
       "    <tr>\n",
       "      <th>1</th>\n",
       "      <td>Albania</td>\n",
       "      <td>ALB</td>\n",
       "      <td>1971</td>\n",
       "      <td>3159.8088</td>\n",
       "    </tr>\n",
       "    <tr>\n",
       "      <th>2</th>\n",
       "      <td>Albania</td>\n",
       "      <td>ALB</td>\n",
       "      <td>1972</td>\n",
       "      <td>3214.6665</td>\n",
       "    </tr>\n",
       "    <tr>\n",
       "      <th>3</th>\n",
       "      <td>Albania</td>\n",
       "      <td>ALB</td>\n",
       "      <td>1973</td>\n",
       "      <td>3267.8481</td>\n",
       "    </tr>\n",
       "    <tr>\n",
       "      <th>4</th>\n",
       "      <td>Albania</td>\n",
       "      <td>ALB</td>\n",
       "      <td>1974</td>\n",
       "      <td>3330.0708</td>\n",
       "    </tr>\n",
       "    <tr>\n",
       "      <th>...</th>\n",
       "      <td>...</td>\n",
       "      <td>...</td>\n",
       "      <td>...</td>\n",
       "      <td>...</td>\n",
       "    </tr>\n",
       "    <tr>\n",
       "      <th>10394</th>\n",
       "      <td>Zimbabwe</td>\n",
       "      <td>ZWE</td>\n",
       "      <td>2015</td>\n",
       "      <td>2880.9058</td>\n",
       "    </tr>\n",
       "    <tr>\n",
       "      <th>10395</th>\n",
       "      <td>Zimbabwe</td>\n",
       "      <td>ZWE</td>\n",
       "      <td>2016</td>\n",
       "      <td>2919.6170</td>\n",
       "    </tr>\n",
       "    <tr>\n",
       "      <th>10396</th>\n",
       "      <td>Zimbabwe</td>\n",
       "      <td>ZWE</td>\n",
       "      <td>2017</td>\n",
       "      <td>3112.8750</td>\n",
       "    </tr>\n",
       "    <tr>\n",
       "      <th>10397</th>\n",
       "      <td>Zimbabwe</td>\n",
       "      <td>ZWE</td>\n",
       "      <td>2018</td>\n",
       "      <td>3007.2370</td>\n",
       "    </tr>\n",
       "    <tr>\n",
       "      <th>10398</th>\n",
       "      <td>Zimbabwe</td>\n",
       "      <td>ZWE</td>\n",
       "      <td>2019</td>\n",
       "      <td>2787.6590</td>\n",
       "    </tr>\n",
       "  </tbody>\n",
       "</table>\n",
       "<p>10399 rows × 4 columns</p>\n",
       "</div>"
      ],
      "text/plain": [
       "         Entity Code  Year  GDP per capita (output, multiple price benchmarks)\n",
       "0       Albania  ALB  1970                                          3114.0884 \n",
       "1       Albania  ALB  1971                                          3159.8088 \n",
       "2       Albania  ALB  1972                                          3214.6665 \n",
       "3       Albania  ALB  1973                                          3267.8481 \n",
       "4       Albania  ALB  1974                                          3330.0708 \n",
       "...         ...  ...   ...                                                ... \n",
       "10394  Zimbabwe  ZWE  2015                                          2880.9058 \n",
       "10395  Zimbabwe  ZWE  2016                                          2919.6170 \n",
       "10396  Zimbabwe  ZWE  2017                                          3112.8750 \n",
       "10397  Zimbabwe  ZWE  2018                                          3007.2370 \n",
       "10398  Zimbabwe  ZWE  2019                                          2787.6590 \n",
       "\n",
       "[10399 rows x 4 columns]"
      ]
     },
     "execution_count": 11,
     "metadata": {},
     "output_type": "execute_result"
    }
   ],
   "source": [
    "import pandas as pd\n",
    "df = pd.read_csv('D:\\CSV files for python\\gdp-per-capita-penn-world-table (1).csv')\n",
    "df"
   ]
  },
  {
   "cell_type": "code",
   "execution_count": 11,
   "id": "d21defb6",
   "metadata": {},
   "outputs": [
    {
     "name": "stdout",
     "output_type": "stream",
     "text": [
      "<class 'pandas.core.frame.DataFrame'>\n"
     ]
    }
   ],
   "source": [
    "print(type(df))"
   ]
  },
  {
   "cell_type": "code",
   "execution_count": null,
   "id": "88a16ca6",
   "metadata": {},
   "outputs": [],
   "source": []
  },
  {
   "cell_type": "code",
   "execution_count": 12,
   "id": "5c8f243f",
   "metadata": {},
   "outputs": [
    {
     "name": "stdout",
     "output_type": "stream",
     "text": [
      "(10399, 4)\n"
     ]
    }
   ],
   "source": [
    "print(df.shape) #tells about rows and columns., result is tuple."
   ]
  },
  {
   "cell_type": "code",
   "execution_count": 13,
   "id": "b1be3576",
   "metadata": {},
   "outputs": [
    {
     "ename": "TypeError",
     "evalue": "'tuple' object is not callable",
     "output_type": "error",
     "traceback": [
      "\u001b[1;31m---------------------------------------------------------------------------\u001b[0m",
      "\u001b[1;31mTypeError\u001b[0m                                 Traceback (most recent call last)",
      "Cell \u001b[1;32mIn[13], line 1\u001b[0m\n\u001b[1;32m----> 1\u001b[0m \u001b[38;5;28mprint\u001b[39m(\u001b[43mdf\u001b[49m\u001b[38;5;241;43m.\u001b[39;49m\u001b[43mshape\u001b[49m\u001b[43m(\u001b[49m\u001b[43m)\u001b[49m)\n",
      "\u001b[1;31mTypeError\u001b[0m: 'tuple' object is not callable"
     ]
    }
   ],
   "source": [
    "print(df.shape()) #because it is an attribute"
   ]
  },
  {
   "cell_type": "code",
   "execution_count": 14,
   "id": "bbbcf3f2",
   "metadata": {},
   "outputs": [
    {
     "data": {
      "text/plain": [
       "Index(['Entity', 'Code', 'Year',\n",
       "       'GDP per capita (output, multiple price benchmarks)'],\n",
       "      dtype='object')"
      ]
     },
     "execution_count": 14,
     "metadata": {},
     "output_type": "execute_result"
    }
   ],
   "source": [
    "df.columns"
   ]
  },
  {
   "cell_type": "code",
   "execution_count": 15,
   "id": "491a1591",
   "metadata": {},
   "outputs": [
    {
     "name": "stdout",
     "output_type": "stream",
     "text": [
      "Entity                                                 object\n",
      "Code                                                   object\n",
      "Year                                                    int64\n",
      "GDP per capita (output, multiple price benchmarks)    float64\n",
      "dtype: object\n"
     ]
    }
   ],
   "source": [
    "print(df.dtypes)"
   ]
  },
  {
   "cell_type": "code",
   "execution_count": 16,
   "id": "d5f0766e",
   "metadata": {},
   "outputs": [
    {
     "name": "stdout",
     "output_type": "stream",
     "text": [
      "<class 'pandas.core.frame.DataFrame'>\n",
      "RangeIndex: 10399 entries, 0 to 10398\n",
      "Data columns (total 4 columns):\n",
      " #   Column                                              Non-Null Count  Dtype  \n",
      "---  ------                                              --------------  -----  \n",
      " 0   Entity                                              10399 non-null  object \n",
      " 1   Code                                                10399 non-null  object \n",
      " 2   Year                                                10399 non-null  int64  \n",
      " 3   GDP per capita (output, multiple price benchmarks)  10399 non-null  float64\n",
      "dtypes: float64(1), int64(1), object(2)\n",
      "memory usage: 325.1+ KB\n",
      "None\n"
     ]
    }
   ],
   "source": [
    "print(df.info())"
   ]
  },
  {
   "cell_type": "markdown",
   "id": "c7744293",
   "metadata": {},
   "source": [
    "# columns, rows and cells"
   ]
  },
  {
   "cell_type": "code",
   "execution_count": 17,
   "id": "191df753",
   "metadata": {},
   "outputs": [
    {
     "name": "stdout",
     "output_type": "stream",
     "text": [
      "    Entity Code  Year  GDP per capita (output, multiple price benchmarks)\n",
      "0  Albania  ALB  1970                                          3114.0884 \n",
      "1  Albania  ALB  1971                                          3159.8088 \n",
      "2  Albania  ALB  1972                                          3214.6665 \n",
      "3  Albania  ALB  1973                                          3267.8481 \n",
      "4  Albania  ALB  1974                                          3330.0708 \n"
     ]
    }
   ],
   "source": [
    "print(df.head()) #by default shows first 5 values"
   ]
  },
  {
   "cell_type": "code",
   "execution_count": 18,
   "id": "1e5e31f4",
   "metadata": {
    "scrolled": true
   },
   "outputs": [
    {
     "name": "stdout",
     "output_type": "stream",
     "text": [
      "0         Albania\n",
      "1         Albania\n",
      "2         Albania\n",
      "3         Albania\n",
      "4         Albania\n",
      "           ...   \n",
      "10394    Zimbabwe\n",
      "10395    Zimbabwe\n",
      "10396    Zimbabwe\n",
      "10397    Zimbabwe\n",
      "10398    Zimbabwe\n",
      "Name: Entity, Length: 10399, dtype: object\n"
     ]
    }
   ],
   "source": [
    "#If we want only a specific column from our data, we can access the datausing square brackets, [ ].\n",
    "print(df['Entity'])"
   ]
  },
  {
   "cell_type": "code",
   "execution_count": 21,
   "id": "0c8c98f5",
   "metadata": {},
   "outputs": [
    {
     "name": "stdout",
     "output_type": "stream",
     "text": [
      "0         Albania\n",
      "1         Albania\n",
      "2         Albania\n",
      "3         Albania\n",
      "4         Albania\n",
      "           ...   \n",
      "10394    Zimbabwe\n",
      "10395    Zimbabwe\n",
      "10396    Zimbabwe\n",
      "10397    Zimbabwe\n",
      "10398    Zimbabwe\n",
      "Name: Entity, Length: 10399, dtype: object\n"
     ]
    }
   ],
   "source": [
    "print(df.Entity) #same result"
   ]
  },
  {
   "cell_type": "code",
   "execution_count": 19,
   "id": "df3da570",
   "metadata": {},
   "outputs": [
    {
     "name": "stdout",
     "output_type": "stream",
     "text": [
      "0        1970\n",
      "1        1971\n",
      "2        1972\n",
      "3        1973\n",
      "4        1974\n",
      "         ... \n",
      "10394    2015\n",
      "10395    2016\n",
      "10396    2017\n",
      "10397    2018\n",
      "10398    2019\n",
      "Name: Year, Length: 10399, dtype: int64\n"
     ]
    }
   ],
   "source": [
    "print(df['Year'])"
   ]
  },
  {
   "cell_type": "code",
   "execution_count": 20,
   "id": "695fa078",
   "metadata": {},
   "outputs": [
    {
     "name": "stdout",
     "output_type": "stream",
     "text": [
      "      Code  Year  GDP per capita (output, multiple price benchmarks)\n",
      "0      ALB  1970                                          3114.0884 \n",
      "1      ALB  1971                                          3159.8088 \n",
      "2      ALB  1972                                          3214.6665 \n",
      "3      ALB  1973                                          3267.8481 \n",
      "4      ALB  1974                                          3330.0708 \n",
      "...    ...   ...                                                ... \n",
      "10394  ZWE  2015                                          2880.9058 \n",
      "10395  ZWE  2016                                          2919.6170 \n",
      "10396  ZWE  2017                                          3112.8750 \n",
      "10397  ZWE  2018                                          3007.2370 \n",
      "10398  ZWE  2019                                          2787.6590 \n",
      "\n",
      "[10399 rows x 3 columns]\n"
     ]
    }
   ],
   "source": [
    "###n order to specify multiple columns by the column name, we need to passin a Python list between the square brackets. This may look a bit strange since there will be 2 sets of square brackets, [[ ]].\n",
    "print(df[['Code', 'Year', 'GDP per capita (output, multiple price benchmarks)']])"
   ]
  },
  {
   "cell_type": "code",
   "execution_count": null,
   "id": "5bacbbcf",
   "metadata": {},
   "outputs": [],
   "source": [
    "#subset rows\n",
    "#There are two ways to access the rows\n",
    "#): .loc[]... based upon index label(row name)\n",
    "##): .iloc.....based upon row number"
   ]
  },
  {
   "cell_type": "code",
   "execution_count": 22,
   "id": "fb1a26be",
   "metadata": {},
   "outputs": [
    {
     "name": "stdout",
     "output_type": "stream",
     "text": [
      "         Entity Code  Year  GDP per capita (output, multiple price benchmarks)\n",
      "0       Albania  ALB  1970                                          3114.0884 \n",
      "1       Albania  ALB  1971                                          3159.8088 \n",
      "2       Albania  ALB  1972                                          3214.6665 \n",
      "3       Albania  ALB  1973                                          3267.8481 \n",
      "4       Albania  ALB  1974                                          3330.0708 \n",
      "...         ...  ...   ...                                                ... \n",
      "10394  Zimbabwe  ZWE  2015                                          2880.9058 \n",
      "10395  Zimbabwe  ZWE  2016                                          2919.6170 \n",
      "10396  Zimbabwe  ZWE  2017                                          3112.8750 \n",
      "10397  Zimbabwe  ZWE  2018                                          3007.2370 \n",
      "10398  Zimbabwe  ZWE  2019                                          2787.6590 \n",
      "\n",
      "[10399 rows x 4 columns]\n"
     ]
    }
   ],
   "source": [
    "print(df)"
   ]
  },
  {
   "cell_type": "code",
   "execution_count": 23,
   "id": "e42d025d",
   "metadata": {},
   "outputs": [
    {
     "name": "stdout",
     "output_type": "stream",
     "text": [
      "Entity                                                  Albania\n",
      "Code                                                        ALB\n",
      "Year                                                       1970\n",
      "GDP per capita (output, multiple price benchmarks)    3114.0884\n",
      "Name: 0, dtype: object\n"
     ]
    }
   ],
   "source": [
    "#to access the rows\n",
    "print(df.loc[0])"
   ]
  },
  {
   "cell_type": "code",
   "execution_count": 5,
   "id": "d48b46da",
   "metadata": {},
   "outputs": [
    {
     "ename": "NameError",
     "evalue": "name 'df' is not defined",
     "output_type": "error",
     "traceback": [
      "\u001b[1;31m---------------------------------------------------------------------------\u001b[0m",
      "\u001b[1;31mNameError\u001b[0m                                 Traceback (most recent call last)",
      "Cell \u001b[1;32mIn[5], line 1\u001b[0m\n\u001b[1;32m----> 1\u001b[0m \u001b[38;5;28mprint\u001b[39m(\u001b[43mdf\u001b[49m\u001b[38;5;241m.\u001b[39miloc[\u001b[38;5;241m10396\u001b[39m])\n",
      "\u001b[1;31mNameError\u001b[0m: name 'df' is not defined"
     ]
    }
   ],
   "source": [
    "print(df.loc[10396])"
   ]
  },
  {
   "cell_type": "code",
   "execution_count": 25,
   "id": "498d5b38",
   "metadata": {},
   "outputs": [],
   "source": [
    "#subsetting multiple rows at the same time"
   ]
  },
  {
   "cell_type": "code",
   "execution_count": 26,
   "id": "341e1f31",
   "metadata": {},
   "outputs": [
    {
     "name": "stdout",
     "output_type": "stream",
     "text": [
      "         Entity Code  Year  GDP per capita (output, multiple price benchmarks)\n",
      "0       Albania  ALB  1970                                          3114.0884 \n",
      "4       Albania  ALB  1974                                          3330.0708 \n",
      "56      Algeria  DZA  1966                                          5564.5327 \n",
      "10366  Zimbabwe  ZWE  1987                                          3923.4993 \n"
     ]
    }
   ],
   "source": [
    "print(df.loc[[0, 4, 56, 10366]])"
   ]
  },
  {
   "cell_type": "code",
   "execution_count": 12,
   "id": "a80390dd",
   "metadata": {},
   "outputs": [
    {
     "name": "stdout",
     "output_type": "stream",
     "text": [
      "Entity                                                  Albania\n",
      "Code                                                        ALB\n",
      "Year                                                       1970\n",
      "GDP per capita (output, multiple price benchmarks)    3114.0884\n",
      "Name: 0, dtype: object\n"
     ]
    }
   ],
   "source": [
    "#subsetting with i.loc[]\n",
    "print(df.iloc[0])"
   ]
  },
  {
   "cell_type": "code",
   "execution_count": 13,
   "id": "f9b93077",
   "metadata": {},
   "outputs": [
    {
     "name": "stdout",
     "output_type": "stream",
     "text": [
      "Entity                                                Botswana\n",
      "Code                                                       BWA\n",
      "Year                                                      1969\n",
      "GDP per capita (output, multiple price benchmarks)    738.1397\n",
      "Name: 1221, dtype: object\n"
     ]
    }
   ],
   "source": [
    "print(df.iloc[1221])"
   ]
  },
  {
   "cell_type": "code",
   "execution_count": 14,
   "id": "23fc6424",
   "metadata": {},
   "outputs": [
    {
     "name": "stdout",
     "output_type": "stream",
     "text": [
      "Entity                                                Zimbabwe\n",
      "Code                                                       ZWE\n",
      "Year                                                      2019\n",
      "GDP per capita (output, multiple price benchmarks)    2787.659\n",
      "Name: 10398, dtype: object\n"
     ]
    }
   ],
   "source": [
    "#-ve indexing can be done with i.loc, but not with the lo.\n",
    "print(df.iloc[-1])"
   ]
  },
  {
   "cell_type": "code",
   "execution_count": 15,
   "id": "ef4c052e",
   "metadata": {},
   "outputs": [
    {
     "name": "stdout",
     "output_type": "stream",
     "text": [
      "          Entity Code  Year  \\\n",
      "0        Albania  ALB  1970   \n",
      "100      Algeria  DZA  2010   \n",
      "121       Angola  AGO  1981   \n",
      "5625  Luxembourg  LUX  1952   \n",
      "\n",
      "      GDP per capita (output, multiple price benchmarks)  \n",
      "0                                             3114.0884   \n",
      "100                                          14808.7670   \n",
      "121                                           3313.9580   \n",
      "5625                                         17184.9600   \n"
     ]
    }
   ],
   "source": [
    "#accessing multiple rows\n",
    "print(df.iloc[[0, 100, 121, 5625]])"
   ]
  },
  {
   "cell_type": "code",
   "execution_count": 16,
   "id": "8c711fe2",
   "metadata": {},
   "outputs": [],
   "source": [
    "#accessing columns and rows at the sametime.\n",
    "x = df.loc[1:90, ['Code', 'GDP per capita (output, multiple price benchmarks)']]"
   ]
  },
  {
   "cell_type": "code",
   "execution_count": 17,
   "id": "56112792",
   "metadata": {},
   "outputs": [
    {
     "name": "stdout",
     "output_type": "stream",
     "text": [
      "   Code  GDP per capita (output, multiple price benchmarks)\n",
      "1   ALB                                          3159.8088 \n",
      "2   ALB                                          3214.6665 \n",
      "3   ALB                                          3267.8481 \n",
      "4   ALB                                          3330.0708 \n",
      "5   ALB                                          3385.2730 \n",
      "..  ...                                                ... \n",
      "86  DZA                                          8914.0970 \n",
      "87  DZA                                          8496.6300 \n",
      "88  DZA                                          8693.3520 \n",
      "89  DZA                                          8883.0310 \n",
      "90  DZA                                          9704.5850 \n",
      "\n",
      "[90 rows x 2 columns]\n"
     ]
    }
   ],
   "source": [
    "print(x)"
   ]
  },
  {
   "cell_type": "code",
   "execution_count": 18,
   "id": "b40389e6",
   "metadata": {},
   "outputs": [
    {
     "name": "stdout",
     "output_type": "stream",
     "text": [
      "  Code  Year\n",
      "1  ALB  1971\n",
      "2  ALB  1972\n",
      "3  ALB  1973\n",
      "4  ALB  1974\n",
      "5  ALB  1975\n"
     ]
    }
   ],
   "source": [
    "y = df.loc[1:5, ['Code', 'Year']]\n",
    "print(y)"
   ]
  },
  {
   "cell_type": "code",
   "execution_count": 19,
   "id": "4f328665",
   "metadata": {},
   "outputs": [
    {
     "name": "stdout",
     "output_type": "stream",
     "text": [
      "    Entity\n",
      "2  Albania\n",
      "3  Albania\n",
      "4  Albania\n",
      "5  Albania\n"
     ]
    }
   ],
   "source": [
    "a = df.iloc[2:6, [0]]\n",
    "print(a)"
   ]
  },
  {
   "cell_type": "code",
   "execution_count": 20,
   "id": "69e973ac",
   "metadata": {},
   "outputs": [
    {
     "name": "stdout",
     "output_type": "stream",
     "text": [
      "  Code  GDP per capita (output, multiple price benchmarks)\n",
      "4  ALB                                          3330.0708 \n",
      "5  ALB                                          3385.2730 \n",
      "6  ALB                                          3431.9856 \n",
      "7  ALB                                          3501.2654 \n",
      "8  ALB                                          3579.4128 \n"
     ]
    }
   ],
   "source": [
    "b = df.iloc[4:9, [1, -1]]\n",
    "print(b)"
   ]
  },
  {
   "cell_type": "code",
   "execution_count": 21,
   "id": "4b1bef29",
   "metadata": {},
   "outputs": [
    {
     "name": "stdout",
     "output_type": "stream",
     "text": [
      "      Code  GDP per capita (output, multiple price benchmarks)\n",
      "0      ALB                                          3114.0884 \n",
      "1      ALB                                          3159.8088 \n",
      "2      ALB                                          3214.6665 \n",
      "3      ALB                                          3267.8481 \n",
      "4      ALB                                          3330.0708 \n",
      "...    ...                                                ... \n",
      "10394  ZWE                                          2880.9058 \n",
      "10395  ZWE                                          2919.6170 \n",
      "10396  ZWE                                          3112.8750 \n",
      "10397  ZWE                                          3007.2370 \n",
      "10398  ZWE                                          2787.6590 \n",
      "\n",
      "[10399 rows x 2 columns]\n"
     ]
    }
   ],
   "source": [
    "print(df[['Code', 'GDP per capita (output, multiple price benchmarks)' ]])"
   ]
  },
  {
   "cell_type": "markdown",
   "id": "47666767",
   "metadata": {},
   "source": [
    "#using Range function"
   ]
  },
  {
   "cell_type": "code",
   "execution_count": 23,
   "id": "cf344d32",
   "metadata": {},
   "outputs": [
    {
     "name": "stdout",
     "output_type": "stream",
     "text": [
      "[0, 1, 2]\n"
     ]
    }
   ],
   "source": [
    "ran_ge = list(range(3))\n",
    "print(ran_ge)"
   ]
  },
  {
   "cell_type": "code",
   "execution_count": 27,
   "id": "de041e1c",
   "metadata": {},
   "outputs": [
    {
     "name": "stdout",
     "output_type": "stream",
     "text": [
      "     Entity Code  Year\n",
      "1   Albania  ALB  1971\n",
      "2   Albania  ALB  1972\n",
      "3   Albania  ALB  1973\n",
      "4   Albania  ALB  1974\n",
      "5   Albania  ALB  1975\n",
      "6   Albania  ALB  1976\n",
      "7   Albania  ALB  1977\n",
      "8   Albania  ALB  1978\n",
      "9   Albania  ALB  1979\n",
      "10  Albania  ALB  1980\n",
      "11  Albania  ALB  1981\n",
      "12  Albania  ALB  1982\n",
      "13  Albania  ALB  1983\n",
      "14  Albania  ALB  1984\n",
      "15  Albania  ALB  1985\n",
      "16  Albania  ALB  1986\n",
      "17  Albania  ALB  1987\n",
      "18  Albania  ALB  1988\n",
      "19  Albania  ALB  1989\n"
     ]
    }
   ],
   "source": [
    "print(df.iloc[1:20, ran_ge])"
   ]
  },
  {
   "cell_type": "code",
   "execution_count": 28,
   "id": "cb273815",
   "metadata": {},
   "outputs": [
    {
     "name": "stdout",
     "output_type": "stream",
     "text": [
      "[0, 2]\n"
     ]
    }
   ],
   "source": [
    "#we can also add step value in range\n",
    "a_b = list(range(0, 4, 2))\n",
    "print(a_b)"
   ]
  },
  {
   "cell_type": "code",
   "execution_count": 29,
   "id": "7c37fc13",
   "metadata": {},
   "outputs": [
    {
     "name": "stdout",
     "output_type": "stream",
     "text": [
      "     Entity  Year\n",
      "1   Albania  1971\n",
      "2   Albania  1972\n",
      "3   Albania  1973\n",
      "4   Albania  1974\n",
      "5   Albania  1975\n",
      "6   Albania  1976\n",
      "7   Albania  1977\n",
      "8   Albania  1978\n",
      "9   Albania  1979\n",
      "10  Albania  1980\n",
      "11  Albania  1981\n"
     ]
    }
   ],
   "source": [
    "print(df.iloc[1:12, a_b])"
   ]
  },
  {
   "cell_type": "code",
   "execution_count": 30,
   "id": "241c05ec",
   "metadata": {},
   "outputs": [
    {
     "name": "stdout",
     "output_type": "stream",
     "text": [
      "    Entity Code  Year  GDP per capita (output, multiple price benchmarks)\n",
      "1  Albania  ALB  1971                                          3159.8088 \n",
      "2  Albania  ALB  1972                                          3214.6665 \n",
      "3  Albania  ALB  1973                                          3267.8481 \n",
      "4  Albania  ALB  1974                                          3330.0708 \n",
      "5  Albania  ALB  1975                                          3385.2730 \n",
      "6  Albania  ALB  1976                                          3431.9856 \n"
     ]
    }
   ],
   "source": [
    "#subset through the slicing method\n",
    "print(df.iloc[1:7, 0:4])"
   ]
  },
  {
   "cell_type": "code",
   "execution_count": 31,
   "id": "0216a9c8",
   "metadata": {},
   "outputs": [
    {
     "name": "stdout",
     "output_type": "stream",
     "text": [
      "    Entity Code  Year  GDP per capita (output, multiple price benchmarks)\n",
      "1  Albania  ALB  1971                                          3159.8088 \n",
      "2  Albania  ALB  1972                                          3214.6665 \n",
      "3  Albania  ALB  1973                                          3267.8481 \n",
      "4  Albania  ALB  1974                                          3330.0708 \n",
      "5  Albania  ALB  1975                                          3385.2730 \n",
      "6  Albania  ALB  1976                                          3431.9856 \n"
     ]
    }
   ],
   "source": [
    "print(df.iloc[1:7, 0:4:]) #important"
   ]
  },
  {
   "cell_type": "code",
   "execution_count": 32,
   "id": "59a85c52",
   "metadata": {},
   "outputs": [
    {
     "name": "stdout",
     "output_type": "stream",
     "text": [
      "    Entity\n",
      "1  Albania\n",
      "2  Albania\n",
      "3  Albania\n",
      "4  Albania\n",
      "5  Albania\n",
      "6  Albania\n"
     ]
    }
   ],
   "source": [
    "print(df.iloc[1:7, 0::4]) #important"
   ]
  },
  {
   "cell_type": "code",
   "execution_count": 33,
   "id": "3af5e552",
   "metadata": {},
   "outputs": [
    {
     "name": "stdout",
     "output_type": "stream",
     "text": [
      "    Entity\n",
      "1  Albania\n",
      "2  Albania\n",
      "3  Albania\n",
      "4  Albania\n",
      "5  Albania\n",
      "6  Albania\n"
     ]
    }
   ],
   "source": [
    "print(df.iloc[1:7, ::4]) #important"
   ]
  },
  {
   "cell_type": "code",
   "execution_count": 34,
   "id": "39f62395",
   "metadata": {},
   "outputs": [
    {
     "name": "stdout",
     "output_type": "stream",
     "text": [
      "    Entity Code  Year  GDP per capita (output, multiple price benchmarks)\n",
      "1  Albania  ALB  1971                                          3159.8088 \n",
      "2  Albania  ALB  1972                                          3214.6665 \n",
      "3  Albania  ALB  1973                                          3267.8481 \n",
      "4  Albania  ALB  1974                                          3330.0708 \n",
      "5  Albania  ALB  1975                                          3385.2730 \n",
      "6  Albania  ALB  1976                                          3431.9856 \n"
     ]
    }
   ],
   "source": [
    "print(df.iloc[1:7, ::]) #important"
   ]
  },
  {
   "cell_type": "code",
   "execution_count": 35,
   "id": "6e901aa4",
   "metadata": {},
   "outputs": [
    {
     "ename": "ValueError",
     "evalue": "slice step cannot be zero",
     "output_type": "error",
     "traceback": [
      "\u001b[1;31m---------------------------------------------------------------------------\u001b[0m",
      "\u001b[1;31mValueError\u001b[0m                                Traceback (most recent call last)",
      "Cell \u001b[1;32mIn[35], line 1\u001b[0m\n\u001b[1;32m----> 1\u001b[0m \u001b[38;5;28mprint\u001b[39m(\u001b[43mdf\u001b[49m\u001b[38;5;241;43m.\u001b[39;49m\u001b[43miloc\u001b[49m\u001b[43m[\u001b[49m\u001b[38;5;241;43m1\u001b[39;49m\u001b[43m:\u001b[49m\u001b[38;5;241;43m7\u001b[39;49m\u001b[43m,\u001b[49m\u001b[43m \u001b[49m\u001b[43m:\u001b[49m\u001b[38;5;241;43m4\u001b[39;49m\u001b[43m:\u001b[49m\u001b[38;5;241;43m0\u001b[39;49m\u001b[43m]\u001b[49m)\n",
      "File \u001b[1;32m~\\anaconda3\\lib\\site-packages\\pandas\\core\\indexing.py:1067\u001b[0m, in \u001b[0;36m_LocationIndexer.__getitem__\u001b[1;34m(self, key)\u001b[0m\n\u001b[0;32m   1065\u001b[0m     \u001b[38;5;28;01mif\u001b[39;00m \u001b[38;5;28mself\u001b[39m\u001b[38;5;241m.\u001b[39m_is_scalar_access(key):\n\u001b[0;32m   1066\u001b[0m         \u001b[38;5;28;01mreturn\u001b[39;00m \u001b[38;5;28mself\u001b[39m\u001b[38;5;241m.\u001b[39mobj\u001b[38;5;241m.\u001b[39m_get_value(\u001b[38;5;241m*\u001b[39mkey, takeable\u001b[38;5;241m=\u001b[39m\u001b[38;5;28mself\u001b[39m\u001b[38;5;241m.\u001b[39m_takeable)\n\u001b[1;32m-> 1067\u001b[0m     \u001b[38;5;28;01mreturn\u001b[39;00m \u001b[38;5;28;43mself\u001b[39;49m\u001b[38;5;241;43m.\u001b[39;49m\u001b[43m_getitem_tuple\u001b[49m\u001b[43m(\u001b[49m\u001b[43mkey\u001b[49m\u001b[43m)\u001b[49m\n\u001b[0;32m   1068\u001b[0m \u001b[38;5;28;01melse\u001b[39;00m:\n\u001b[0;32m   1069\u001b[0m     \u001b[38;5;66;03m# we by definition only have the 0th axis\u001b[39;00m\n\u001b[0;32m   1070\u001b[0m     axis \u001b[38;5;241m=\u001b[39m \u001b[38;5;28mself\u001b[39m\u001b[38;5;241m.\u001b[39maxis \u001b[38;5;129;01mor\u001b[39;00m \u001b[38;5;241m0\u001b[39m\n",
      "File \u001b[1;32m~\\anaconda3\\lib\\site-packages\\pandas\\core\\indexing.py:1567\u001b[0m, in \u001b[0;36m_iLocIndexer._getitem_tuple\u001b[1;34m(self, tup)\u001b[0m\n\u001b[0;32m   1564\u001b[0m \u001b[38;5;28;01mwith\u001b[39;00m suppress(IndexingError):\n\u001b[0;32m   1565\u001b[0m     \u001b[38;5;28;01mreturn\u001b[39;00m \u001b[38;5;28mself\u001b[39m\u001b[38;5;241m.\u001b[39m_getitem_lowerdim(tup)\n\u001b[1;32m-> 1567\u001b[0m \u001b[38;5;28;01mreturn\u001b[39;00m \u001b[38;5;28;43mself\u001b[39;49m\u001b[38;5;241;43m.\u001b[39;49m\u001b[43m_getitem_tuple_same_dim\u001b[49m\u001b[43m(\u001b[49m\u001b[43mtup\u001b[49m\u001b[43m)\u001b[49m\n",
      "File \u001b[1;32m~\\anaconda3\\lib\\site-packages\\pandas\\core\\indexing.py:924\u001b[0m, in \u001b[0;36m_LocationIndexer._getitem_tuple_same_dim\u001b[1;34m(self, tup)\u001b[0m\n\u001b[0;32m    921\u001b[0m \u001b[38;5;28;01mif\u001b[39;00m com\u001b[38;5;241m.\u001b[39mis_null_slice(key):\n\u001b[0;32m    922\u001b[0m     \u001b[38;5;28;01mcontinue\u001b[39;00m\n\u001b[1;32m--> 924\u001b[0m retval \u001b[38;5;241m=\u001b[39m \u001b[38;5;28;43mgetattr\u001b[39;49m\u001b[43m(\u001b[49m\u001b[43mretval\u001b[49m\u001b[43m,\u001b[49m\u001b[43m \u001b[49m\u001b[38;5;28;43mself\u001b[39;49m\u001b[38;5;241;43m.\u001b[39;49m\u001b[43mname\u001b[49m\u001b[43m)\u001b[49m\u001b[38;5;241;43m.\u001b[39;49m\u001b[43m_getitem_axis\u001b[49m\u001b[43m(\u001b[49m\u001b[43mkey\u001b[49m\u001b[43m,\u001b[49m\u001b[43m \u001b[49m\u001b[43maxis\u001b[49m\u001b[38;5;241;43m=\u001b[39;49m\u001b[43mi\u001b[49m\u001b[43m)\u001b[49m\n\u001b[0;32m    925\u001b[0m \u001b[38;5;66;03m# We should never have retval.ndim < self.ndim, as that should\u001b[39;00m\n\u001b[0;32m    926\u001b[0m \u001b[38;5;66;03m#  be handled by the _getitem_lowerdim call above.\u001b[39;00m\n\u001b[0;32m    927\u001b[0m \u001b[38;5;28;01massert\u001b[39;00m retval\u001b[38;5;241m.\u001b[39mndim \u001b[38;5;241m==\u001b[39m \u001b[38;5;28mself\u001b[39m\u001b[38;5;241m.\u001b[39mndim\n",
      "File \u001b[1;32m~\\anaconda3\\lib\\site-packages\\pandas\\core\\indexing.py:1602\u001b[0m, in \u001b[0;36m_iLocIndexer._getitem_axis\u001b[1;34m(self, key, axis)\u001b[0m\n\u001b[0;32m   1596\u001b[0m     \u001b[38;5;28;01mraise\u001b[39;00m \u001b[38;5;167;01mIndexError\u001b[39;00m(\n\u001b[0;32m   1597\u001b[0m         \u001b[38;5;124m\"\u001b[39m\u001b[38;5;124mDataFrame indexer is not allowed for .iloc\u001b[39m\u001b[38;5;130;01m\\n\u001b[39;00m\u001b[38;5;124m\"\u001b[39m\n\u001b[0;32m   1598\u001b[0m         \u001b[38;5;124m\"\u001b[39m\u001b[38;5;124mConsider using .loc for automatic alignment.\u001b[39m\u001b[38;5;124m\"\u001b[39m\n\u001b[0;32m   1599\u001b[0m     )\n\u001b[0;32m   1601\u001b[0m \u001b[38;5;28;01mif\u001b[39;00m \u001b[38;5;28misinstance\u001b[39m(key, \u001b[38;5;28mslice\u001b[39m):\n\u001b[1;32m-> 1602\u001b[0m     \u001b[38;5;28;01mreturn\u001b[39;00m \u001b[38;5;28;43mself\u001b[39;49m\u001b[38;5;241;43m.\u001b[39;49m\u001b[43m_get_slice_axis\u001b[49m\u001b[43m(\u001b[49m\u001b[43mkey\u001b[49m\u001b[43m,\u001b[49m\u001b[43m \u001b[49m\u001b[43maxis\u001b[49m\u001b[38;5;241;43m=\u001b[39;49m\u001b[43maxis\u001b[49m\u001b[43m)\u001b[49m\n\u001b[0;32m   1604\u001b[0m \u001b[38;5;28;01mif\u001b[39;00m is_iterator(key):\n\u001b[0;32m   1605\u001b[0m     key \u001b[38;5;241m=\u001b[39m \u001b[38;5;28mlist\u001b[39m(key)\n",
      "File \u001b[1;32m~\\anaconda3\\lib\\site-packages\\pandas\\core\\indexing.py:1638\u001b[0m, in \u001b[0;36m_iLocIndexer._get_slice_axis\u001b[1;34m(self, slice_obj, axis)\u001b[0m\n\u001b[0;32m   1636\u001b[0m labels \u001b[38;5;241m=\u001b[39m obj\u001b[38;5;241m.\u001b[39m_get_axis(axis)\n\u001b[0;32m   1637\u001b[0m labels\u001b[38;5;241m.\u001b[39m_validate_positional_slice(slice_obj)\n\u001b[1;32m-> 1638\u001b[0m \u001b[38;5;28;01mreturn\u001b[39;00m \u001b[38;5;28;43mself\u001b[39;49m\u001b[38;5;241;43m.\u001b[39;49m\u001b[43mobj\u001b[49m\u001b[38;5;241;43m.\u001b[39;49m\u001b[43m_slice\u001b[49m\u001b[43m(\u001b[49m\u001b[43mslice_obj\u001b[49m\u001b[43m,\u001b[49m\u001b[43m \u001b[49m\u001b[43maxis\u001b[49m\u001b[38;5;241;43m=\u001b[39;49m\u001b[43maxis\u001b[49m\u001b[43m)\u001b[49m\n",
      "File \u001b[1;32m~\\anaconda3\\lib\\site-packages\\pandas\\core\\generic.py:4105\u001b[0m, in \u001b[0;36mNDFrame._slice\u001b[1;34m(self, slobj, axis)\u001b[0m\n\u001b[0;32m   4103\u001b[0m \u001b[38;5;28;01massert\u001b[39;00m \u001b[38;5;28misinstance\u001b[39m(slobj, \u001b[38;5;28mslice\u001b[39m), \u001b[38;5;28mtype\u001b[39m(slobj)\n\u001b[0;32m   4104\u001b[0m axis \u001b[38;5;241m=\u001b[39m \u001b[38;5;28mself\u001b[39m\u001b[38;5;241m.\u001b[39m_get_block_manager_axis(axis)\n\u001b[1;32m-> 4105\u001b[0m result \u001b[38;5;241m=\u001b[39m \u001b[38;5;28mself\u001b[39m\u001b[38;5;241m.\u001b[39m_constructor(\u001b[38;5;28;43mself\u001b[39;49m\u001b[38;5;241;43m.\u001b[39;49m\u001b[43m_mgr\u001b[49m\u001b[38;5;241;43m.\u001b[39;49m\u001b[43mget_slice\u001b[49m\u001b[43m(\u001b[49m\u001b[43mslobj\u001b[49m\u001b[43m,\u001b[49m\u001b[43m \u001b[49m\u001b[43maxis\u001b[49m\u001b[38;5;241;43m=\u001b[39;49m\u001b[43maxis\u001b[49m\u001b[43m)\u001b[49m)\n\u001b[0;32m   4106\u001b[0m result \u001b[38;5;241m=\u001b[39m result\u001b[38;5;241m.\u001b[39m__finalize__(\u001b[38;5;28mself\u001b[39m)\n\u001b[0;32m   4108\u001b[0m \u001b[38;5;66;03m# this could be a view\u001b[39;00m\n\u001b[0;32m   4109\u001b[0m \u001b[38;5;66;03m# but only in a single-dtyped view sliceable case\u001b[39;00m\n",
      "File \u001b[1;32m~\\anaconda3\\lib\\site-packages\\pandas\\_libs\\internals.pyx:825\u001b[0m, in \u001b[0;36mpandas._libs.internals.BlockManager.get_slice\u001b[1;34m()\u001b[0m\n",
      "File \u001b[1;32m~\\anaconda3\\lib\\site-packages\\pandas\\core\\internals\\managers.py:803\u001b[0m, in \u001b[0;36mBaseBlockManager._slice_take_blocks_ax0\u001b[1;34m(self, slice_or_indexer, fill_value, only_slice, use_na_proxy)\u001b[0m\n\u001b[0;32m    782\u001b[0m \u001b[38;5;124;03m\"\"\"\u001b[39;00m\n\u001b[0;32m    783\u001b[0m \u001b[38;5;124;03mSlice/take blocks along axis=0.\u001b[39;00m\n\u001b[0;32m    784\u001b[0m \n\u001b[1;32m   (...)\u001b[0m\n\u001b[0;32m    799\u001b[0m \u001b[38;5;124;03mnew_blocks : list of Block\u001b[39;00m\n\u001b[0;32m    800\u001b[0m \u001b[38;5;124;03m\"\"\"\u001b[39;00m\n\u001b[0;32m    801\u001b[0m allow_fill \u001b[38;5;241m=\u001b[39m fill_value \u001b[38;5;129;01mis\u001b[39;00m \u001b[38;5;129;01mnot\u001b[39;00m lib\u001b[38;5;241m.\u001b[39mno_default\n\u001b[1;32m--> 803\u001b[0m sl_type, slobj, sllen \u001b[38;5;241m=\u001b[39m \u001b[43m_preprocess_slice_or_indexer\u001b[49m\u001b[43m(\u001b[49m\n\u001b[0;32m    804\u001b[0m \u001b[43m    \u001b[49m\u001b[43mslice_or_indexer\u001b[49m\u001b[43m,\u001b[49m\u001b[43m \u001b[49m\u001b[38;5;28;43mself\u001b[39;49m\u001b[38;5;241;43m.\u001b[39;49m\u001b[43mshape\u001b[49m\u001b[43m[\u001b[49m\u001b[38;5;241;43m0\u001b[39;49m\u001b[43m]\u001b[49m\u001b[43m,\u001b[49m\u001b[43m \u001b[49m\u001b[43mallow_fill\u001b[49m\u001b[38;5;241;43m=\u001b[39;49m\u001b[43mallow_fill\u001b[49m\n\u001b[0;32m    805\u001b[0m \u001b[43m\u001b[49m\u001b[43m)\u001b[49m\n\u001b[0;32m    807\u001b[0m \u001b[38;5;28;01mif\u001b[39;00m \u001b[38;5;28mself\u001b[39m\u001b[38;5;241m.\u001b[39mis_single_block:\n\u001b[0;32m    808\u001b[0m     blk \u001b[38;5;241m=\u001b[39m \u001b[38;5;28mself\u001b[39m\u001b[38;5;241m.\u001b[39mblocks[\u001b[38;5;241m0\u001b[39m]\n",
      "File \u001b[1;32m~\\anaconda3\\lib\\site-packages\\pandas\\core\\internals\\managers.py:2414\u001b[0m, in \u001b[0;36m_preprocess_slice_or_indexer\u001b[1;34m(slice_or_indexer, length, allow_fill)\u001b[0m\n\u001b[0;32m   2407\u001b[0m \u001b[38;5;28;01mdef\u001b[39;00m \u001b[38;5;21m_preprocess_slice_or_indexer\u001b[39m(\n\u001b[0;32m   2408\u001b[0m     slice_or_indexer: \u001b[38;5;28mslice\u001b[39m \u001b[38;5;241m|\u001b[39m np\u001b[38;5;241m.\u001b[39mndarray, length: \u001b[38;5;28mint\u001b[39m, allow_fill: \u001b[38;5;28mbool\u001b[39m\n\u001b[0;32m   2409\u001b[0m ):\n\u001b[0;32m   2410\u001b[0m     \u001b[38;5;28;01mif\u001b[39;00m \u001b[38;5;28misinstance\u001b[39m(slice_or_indexer, \u001b[38;5;28mslice\u001b[39m):\n\u001b[0;32m   2411\u001b[0m         \u001b[38;5;28;01mreturn\u001b[39;00m (\n\u001b[0;32m   2412\u001b[0m             \u001b[38;5;124m\"\u001b[39m\u001b[38;5;124mslice\u001b[39m\u001b[38;5;124m\"\u001b[39m,\n\u001b[0;32m   2413\u001b[0m             slice_or_indexer,\n\u001b[1;32m-> 2414\u001b[0m             \u001b[43mlibinternals\u001b[49m\u001b[38;5;241;43m.\u001b[39;49m\u001b[43mslice_len\u001b[49m\u001b[43m(\u001b[49m\u001b[43mslice_or_indexer\u001b[49m\u001b[43m,\u001b[49m\u001b[43m \u001b[49m\u001b[43mlength\u001b[49m\u001b[43m)\u001b[49m,\n\u001b[0;32m   2415\u001b[0m         )\n\u001b[0;32m   2416\u001b[0m     \u001b[38;5;28;01melse\u001b[39;00m:\n\u001b[0;32m   2417\u001b[0m         \u001b[38;5;28;01mif\u001b[39;00m (\n\u001b[0;32m   2418\u001b[0m             \u001b[38;5;129;01mnot\u001b[39;00m \u001b[38;5;28misinstance\u001b[39m(slice_or_indexer, np\u001b[38;5;241m.\u001b[39mndarray)\n\u001b[0;32m   2419\u001b[0m             \u001b[38;5;129;01mor\u001b[39;00m slice_or_indexer\u001b[38;5;241m.\u001b[39mdtype\u001b[38;5;241m.\u001b[39mkind \u001b[38;5;241m!=\u001b[39m \u001b[38;5;124m\"\u001b[39m\u001b[38;5;124mi\u001b[39m\u001b[38;5;124m\"\u001b[39m\n\u001b[0;32m   2420\u001b[0m         ):\n",
      "File \u001b[1;32m~\\anaconda3\\lib\\site-packages\\pandas\\_libs\\internals.pyx:326\u001b[0m, in \u001b[0;36mpandas._libs.internals.slice_len\u001b[1;34m()\u001b[0m\n",
      "File \u001b[1;32m~\\anaconda3\\lib\\site-packages\\pandas\\_libs\\internals.pyx:343\u001b[0m, in \u001b[0;36mpandas._libs.internals.slice_len\u001b[1;34m()\u001b[0m\n",
      "\u001b[1;31mValueError\u001b[0m: slice step cannot be zero"
     ]
    }
   ],
   "source": [
    "print(df.iloc[1:7, :4:0]) #error"
   ]
  },
  {
   "cell_type": "markdown",
   "id": "eae5fec5",
   "metadata": {},
   "source": [
    "#when we need specific row and specific column"
   ]
  },
  {
   "cell_type": "code",
   "execution_count": 36,
   "id": "52a23aad",
   "metadata": {},
   "outputs": [
    {
     "name": "stdout",
     "output_type": "stream",
     "text": [
      "BIH\n"
     ]
    }
   ],
   "source": [
    "print(df.loc[1208, 'Code'])"
   ]
  },
  {
   "cell_type": "code",
   "execution_count": 40,
   "id": "0d2e0c7f",
   "metadata": {},
   "outputs": [
    {
     "name": "stdout",
     "output_type": "stream",
     "text": [
      "AIA\n"
     ]
    }
   ],
   "source": [
    "print(df.loc[190, 'Code'])"
   ]
  },
  {
   "cell_type": "code",
   "execution_count": 38,
   "id": "18c630e4",
   "metadata": {},
   "outputs": [
    {
     "name": "stdout",
     "output_type": "stream",
     "text": [
      "4677.358\n"
     ]
    }
   ],
   "source": [
    "print(df.iloc[2897, 3])"
   ]
  },
  {
   "cell_type": "markdown",
   "id": "e8a1cdc6",
   "metadata": {},
   "source": [
    "#subsetting of multiple rows and columns at the sametime"
   ]
  },
  {
   "cell_type": "code",
   "execution_count": 43,
   "id": "6028cbc8",
   "metadata": {},
   "outputs": [
    {
     "name": "stdout",
     "output_type": "stream",
     "text": [
      "     Code  GDP per capita (output, multiple price benchmarks)\n",
      "0     ALB                                          3114.0884 \n",
      "123   AGO                                          3134.6028 \n",
      "2821  DMA                                          6025.3184 \n",
      "9883  GBR                                         12219.7450 \n",
      "6766  NPL                                          1702.9414 \n",
      "1099  BTN                                          6538.2363 \n"
     ]
    }
   ],
   "source": [
    "print(df.iloc[[0, 123, 2821, 9883, 6766, 1099], [1, 3]])"
   ]
  },
  {
   "cell_type": "code",
   "execution_count": 44,
   "id": "627cfd79",
   "metadata": {},
   "outputs": [
    {
     "name": "stdout",
     "output_type": "stream",
     "text": [
      "     Code  GDP per capita (output, multiple price benchmarks)\n",
      "0     ALB                                          3114.0884 \n",
      "2783  DJI                                          3446.8655 \n",
      "3782  GHA                                          4474.9880 \n"
     ]
    }
   ],
   "source": [
    "print(df.iloc[[0, 2783, 3782], [1, 3]])"
   ]
  },
  {
   "cell_type": "code",
   "execution_count": 47,
   "id": "9820dd06",
   "metadata": {},
   "outputs": [
    {
     "name": "stdout",
     "output_type": "stream",
     "text": [
      "        Entity  Year Code\n",
      "0      Albania  1970  ALB\n",
      "2783  Djibouti  1988  DJI\n",
      "3782     Ghana  1963  GHA\n"
     ]
    }
   ],
   "source": [
    "print(df.loc[[0, 2783, 3782], ['Entity', 'Year', 'Code']]) #with names loc is used and also position is changed."
   ]
  },
  {
   "cell_type": "code",
   "execution_count": 48,
   "id": "3fb6ba4c",
   "metadata": {},
   "outputs": [
    {
     "name": "stdout",
     "output_type": "stream",
     "text": [
      "         Entity Code  Year  GDP per capita (output, multiple price benchmarks)\n",
      "0       Albania  ALB  1970                                          3114.0884 \n",
      "1       Albania  ALB  1971                                          3159.8088 \n",
      "2       Albania  ALB  1972                                          3214.6665 \n",
      "3       Albania  ALB  1973                                          3267.8481 \n",
      "4       Albania  ALB  1974                                          3330.0708 \n",
      "...         ...  ...   ...                                                ... \n",
      "10394  Zimbabwe  ZWE  2015                                          2880.9058 \n",
      "10395  Zimbabwe  ZWE  2016                                          2919.6170 \n",
      "10396  Zimbabwe  ZWE  2017                                          3112.8750 \n",
      "10397  Zimbabwe  ZWE  2018                                          3007.2370 \n",
      "10398  Zimbabwe  ZWE  2019                                          2787.6590 \n",
      "\n",
      "[10399 rows x 4 columns]\n"
     ]
    }
   ],
   "source": [
    "print(df)"
   ]
  },
  {
   "cell_type": "code",
   "execution_count": 49,
   "id": "ab8f36ec",
   "metadata": {},
   "outputs": [],
   "source": [
    "#questions:\n",
    "###What is average GDP?\n",
    "#What if we stratify the data by continent and perform the same calculations?\n",
    "#How many countries are listed in each continent?"
   ]
  },
  {
   "cell_type": "code",
   "execution_count": null,
   "id": "96936319",
   "metadata": {},
   "outputs": [],
   "source": [
    "'''Question:\n",
    "What is the average GDP in each year?'''\n",
    "'''For this:split our data in parts.\n",
    "Get the GDP column\n",
    "Calculate the mean'''"
   ]
  },
  {
   "cell_type": "code",
   "execution_count": 50,
   "id": "5b00e4b9",
   "metadata": {
    "scrolled": true
   },
   "outputs": [
    {
     "name": "stdout",
     "output_type": "stream",
     "text": [
      "Year\n",
      "1950     5344.068505\n",
      "1951     5331.389484\n",
      "1952     5342.753230\n",
      "1953     5382.509723\n",
      "1954     5338.220015\n",
      "            ...     \n",
      "2015    20568.610474\n",
      "2016    20349.040883\n",
      "2017    21089.576667\n",
      "2018    21683.036452\n",
      "2019    22032.035519\n",
      "Name: GDP per capita (output, multiple price benchmarks), Length: 70, dtype: float64\n"
     ]
    }
   ],
   "source": [
    "print(df.groupby('Year')['GDP per capita (output, multiple price benchmarks)'].mean())"
   ]
  },
  {
   "cell_type": "code",
   "execution_count": 62,
   "id": "adc7073d",
   "metadata": {},
   "outputs": [
    {
     "name": "stdout",
     "output_type": "stream",
     "text": [
      "Code\n",
      "ABW     34405.180706\n",
      "AGO      4492.325232\n",
      "AIA     21180.396160\n",
      "ALB      5889.855918\n",
      "ARE    140025.732760\n",
      "           ...      \n",
      "VNM      2671.158758\n",
      "YEM      2210.201570\n",
      "ZAF      9607.409131\n",
      "ZMB      2045.597004\n",
      "ZWE      3241.875300\n",
      "Name: GDP per capita (output, multiple price benchmarks), Length: 183, dtype: float64\n"
     ]
    }
   ],
   "source": [
    "y = df.groupby('Code')['GDP per capita (output, multiple price benchmarks)'].mean()\n",
    "print(y)"
   ]
  },
  {
   "cell_type": "code",
   "execution_count": 52,
   "id": "c59c30d9",
   "metadata": {},
   "outputs": [
    {
     "name": "stdout",
     "output_type": "stream",
     "text": [
      "Entity\n",
      "Albania                 5889.855918\n",
      "Algeria                10453.508448\n",
      "Angola                  4492.325232\n",
      "Anguilla               21180.396160\n",
      "Antigua and Barbuda    12823.264424\n",
      "                           ...     \n",
      "Venezuela               9619.852544\n",
      "Vietnam                 2671.158758\n",
      "Yemen                   2210.201570\n",
      "Zambia                  2045.597004\n",
      "Zimbabwe                3241.875300\n",
      "Name: GDP per capita (output, multiple price benchmarks), Length: 183, dtype: float64\n"
     ]
    }
   ],
   "source": [
    "print(df.groupby('Entity')['GDP per capita (output, multiple price benchmarks)'].mean())"
   ]
  },
  {
   "cell_type": "code",
   "execution_count": 53,
   "id": "22be41c4",
   "metadata": {},
   "outputs": [],
   "source": [
    "#grouping multiple variables at the same time"
   ]
  },
  {
   "cell_type": "code",
   "execution_count": 56,
   "id": "f6fedff2",
   "metadata": {},
   "outputs": [
    {
     "name": "stdout",
     "output_type": "stream",
     "text": [
      "Code  Entity    Year\n",
      "ABW   Aruba     1970     7844.2363\n",
      "                1971     8490.6510\n",
      "                1972     9199.3420\n",
      "                1973     9950.7440\n",
      "                1974    10779.7410\n",
      "                           ...    \n",
      "ZWE   Zimbabwe  2015     2880.9058\n",
      "                2016     2919.6170\n",
      "                2017     3112.8750\n",
      "                2018     3007.2370\n",
      "                2019     2787.6590\n",
      "Name: GDP per capita (output, multiple price benchmarks), Length: 10399, dtype: float64\n"
     ]
    }
   ],
   "source": [
    "multi_ple_var = df\\\n",
    ".groupby(['Code', 'Entity', 'Year'])\\\n",
    "['GDP per capita (output, multiple price benchmarks)']\\\n",
    ".mean()\n",
    "print(multi_ple_var)"
   ]
  },
  {
   "cell_type": "code",
   "execution_count": 58,
   "id": "e441bdf7",
   "metadata": {},
   "outputs": [
    {
     "name": "stdout",
     "output_type": "stream",
     "text": [
      "Year\n",
      "1950     5344.068505\n",
      "1951     5331.389484\n",
      "1952     5342.753230\n",
      "1953     5382.509723\n",
      "1954     5338.220015\n",
      "            ...     \n",
      "2015    20568.610474\n",
      "2016    20349.040883\n",
      "2017    21089.576667\n",
      "2018    21683.036452\n",
      "2019    22032.035519\n",
      "Name: GDP per capita (output, multiple price benchmarks), Length: 70, dtype: float64\n"
     ]
    }
   ],
   "source": [
    "x = df.groupby('Year')['GDP per capita (output, multiple price benchmarks)'].mean()\n",
    "print(x)"
   ]
  },
  {
   "cell_type": "code",
   "execution_count": 61,
   "id": "f01976ab",
   "metadata": {},
   "outputs": [
    {
     "data": {
      "image/png": "[encoded data removed]",
      "text/plain": [
       "<Figure size 640x480 with 1 Axes>"
      ]
     },
     "metadata": {},
     "output_type": "display_data"
    }
   ],
   "source": [
    "from matplotlib import pyplot as plt\n",
    "plt.style.use('fivethirtyeight')\n",
    "plt.grid(True)\n",
    "x.plot()\n",
    "plt.tight_layout\n",
    "plt.xlabel('Year')\n",
    "plt.ylabel('Mean GDP')\n",
    "plt.title('Mean GDP with respect to time')\n",
    "plt.show()"
   ]
  },
  {
   "cell_type": "code",
   "execution_count": null,
   "id": "adf7801b",
   "metadata": {},
   "outputs": [],
   "source": []
  },
  {
   "cell_type": "code",
   "execution_count": 67,
   "id": "ebf29137",
   "metadata": {},
   "outputs": [
    {
     "data": {
      "image/png": "[encoded data removed]",
      "text/plain": [
       "<Figure size 640x480 with 1 Axes>"
      ]
     },
     "metadata": {},
     "output_type": "display_data"
    }
   ],
   "source": [
    "from matplotlib import pyplot as plt\n",
    "plt.style.use('fivethirtyeight')\n",
    "plt.grid(True)\n",
    "y.plot()\n",
    "#plt.tight_layout\n",
    "plt.xlabel('Year')\n",
    "plt.ylabel('Mean GDP')\n",
    "plt.title('Mean GDP with respect to time')\n",
    "plt.show()"
   ]
  },
  {
   "cell_type": "code",
   "execution_count": null,
   "id": "1cb47450",
   "metadata": {},
   "outputs": [],
   "source": []
  }
 ],
 "metadata": {
  "kernelspec": {
   "display_name": "Python 3 (ipykernel)",
   "language": "python",
   "name": "python3"
  },
  "language_info": {
   "codemirror_mode": {
    "name": "ipython",
    "version": 3
   },
   "file_extension": ".py",
   "mimetype": "text/x-python",
   "name": "python",
   "nbconvert_exporter": "python",
   "pygments_lexer": "ipython3",
   "version": "3.10.9"
  }
 },
 "nbformat": 4,
 "nbformat_minor": 5
}
